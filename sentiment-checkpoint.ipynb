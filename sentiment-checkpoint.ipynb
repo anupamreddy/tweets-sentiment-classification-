{
 "cells": [
  {
   "cell_type": "code",
   "execution_count": 1,
   "metadata": {},
   "outputs": [
    {
     "name": "stderr",
     "output_type": "stream",
     "text": [
      "Using TensorFlow backend.\n"
     ]
    }
   ],
   "source": [
    "import tensorflow as tf\n",
    "import numpy as np\n",
    "from keras.models import Model\n",
    "from keras.layers import Dense, Input, Dropout, LSTM, Activation\n",
    "from keras.layers.embeddings import Embedding\n",
    "from keras.preprocessing import sequence\n",
    "from keras.initializers import glorot_uniform"
   ]
  },
  {
   "cell_type": "code",
   "execution_count": 2,
   "metadata": {},
   "outputs": [
    {
     "name": "stderr",
     "output_type": "stream",
     "text": [
      "[nltk_data] Downloading package stopwords to\n",
      "[nltk_data]     C:\\Users\\REDDY\\AppData\\Roaming\\nltk_data...\n",
      "[nltk_data]   Package stopwords is already up-to-date!\n"
     ]
    },
    {
     "data": {
      "text/plain": [
       "True"
      ]
     },
     "execution_count": 2,
     "metadata": {},
     "output_type": "execute_result"
    }
   ],
   "source": [
    "import nltk\n",
    "import re\n",
    "nltk.download('stopwords')"
   ]
  },
  {
   "cell_type": "code",
   "execution_count": 3,
   "metadata": {},
   "outputs": [],
   "source": [
    "import numpy as np\n",
    "import pandas as pd"
   ]
  },
  {
   "cell_type": "code",
   "execution_count": 4,
   "metadata": {},
   "outputs": [],
   "source": [
    "#!wget http://nlp.stanford.edu/data/glove.6B.zip\n",
    "#!unzip -q glove.6B.zip\n",
    "#!pip install sklearn"
   ]
  },
  {
   "cell_type": "code",
   "execution_count": 5,
   "metadata": {},
   "outputs": [
    {
     "name": "stderr",
     "output_type": "stream",
     "text": [
      "b'Skipping line 8836: expected 4 fields, saw 5\\n'\n",
      "b'Skipping line 535882: expected 4 fields, saw 7\\n'\n"
     ]
    },
    {
     "data": {
      "text/html": [
       "<div>\n",
       "<style scoped>\n",
       "    .dataframe tbody tr th:only-of-type {\n",
       "        vertical-align: middle;\n",
       "    }\n",
       "\n",
       "    .dataframe tbody tr th {\n",
       "        vertical-align: top;\n",
       "    }\n",
       "\n",
       "    .dataframe thead th {\n",
       "        text-align: right;\n",
       "    }\n",
       "</style>\n",
       "<table border=\"1\" class=\"dataframe\">\n",
       "  <thead>\n",
       "    <tr style=\"text-align: right;\">\n",
       "      <th></th>\n",
       "      <th>ItemID</th>\n",
       "      <th>Sentiment</th>\n",
       "      <th>SentimentSource</th>\n",
       "      <th>SentimentText</th>\n",
       "    </tr>\n",
       "  </thead>\n",
       "  <tbody>\n",
       "    <tr>\n",
       "      <th>0</th>\n",
       "      <td>1</td>\n",
       "      <td>0</td>\n",
       "      <td>Sentiment140</td>\n",
       "      <td>is so sad for my APL frie...</td>\n",
       "    </tr>\n",
       "    <tr>\n",
       "      <th>1</th>\n",
       "      <td>2</td>\n",
       "      <td>0</td>\n",
       "      <td>Sentiment140</td>\n",
       "      <td>I missed the New Moon trail...</td>\n",
       "    </tr>\n",
       "    <tr>\n",
       "      <th>2</th>\n",
       "      <td>3</td>\n",
       "      <td>1</td>\n",
       "      <td>Sentiment140</td>\n",
       "      <td>omg its already 7:30 :O</td>\n",
       "    </tr>\n",
       "    <tr>\n",
       "      <th>3</th>\n",
       "      <td>4</td>\n",
       "      <td>0</td>\n",
       "      <td>Sentiment140</td>\n",
       "      <td>.. Omgaga. Im sooo  im gunna CRy. I'...</td>\n",
       "    </tr>\n",
       "    <tr>\n",
       "      <th>4</th>\n",
       "      <td>5</td>\n",
       "      <td>0</td>\n",
       "      <td>Sentiment140</td>\n",
       "      <td>i think mi bf is cheating on me!!!   ...</td>\n",
       "    </tr>\n",
       "  </tbody>\n",
       "</table>\n",
       "</div>"
      ],
      "text/plain": [
       "   ItemID  Sentiment SentimentSource  \\\n",
       "0       1          0    Sentiment140   \n",
       "1       2          0    Sentiment140   \n",
       "2       3          1    Sentiment140   \n",
       "3       4          0    Sentiment140   \n",
       "4       5          0    Sentiment140   \n",
       "\n",
       "                                       SentimentText  \n",
       "0                       is so sad for my APL frie...  \n",
       "1                     I missed the New Moon trail...  \n",
       "2                            omg its already 7:30 :O  \n",
       "3            .. Omgaga. Im sooo  im gunna CRy. I'...  \n",
       "4           i think mi bf is cheating on me!!!   ...  "
      ]
     },
     "execution_count": 5,
     "metadata": {},
     "output_type": "execute_result"
    }
   ],
   "source": [
    "#error_bad_lines=False is used to neglet lines with erros in dataset\n",
    "data=pd.read_csv(r'C:\\Users\\REDDY\\Desktop\\sentiment.csv',error_bad_lines=False)\n",
    "data=data[0:500]\n",
    "data.head()"
   ]
  },
  {
   "cell_type": "code",
   "execution_count": 6,
   "metadata": {},
   "outputs": [],
   "source": [
    "wpt = nltk.WordPunctTokenizer()\n",
    "stop_words = nltk.corpus.stopwords.words('english')\n",
    "stop_words.remove(\"not\")\n",
    "stop_words.remove(\"no\")"
   ]
  },
  {
   "cell_type": "code",
   "execution_count": 7,
   "metadata": {},
   "outputs": [],
   "source": [
    "def normalize_document(doc):\n",
    "    # lower case and remove special characters\\whitespaces\n",
    "    doc = re.sub(r'[^a-zA-Z\\s]', '', doc, re.I|re.A)\n",
    "    doc = doc.lower()\n",
    "    doc = doc.strip()\n",
    "    # tokenize document\n",
    "    tokens = wpt.tokenize(doc)\n",
    "    # filter stopwords out of document\n",
    "    filtered_tokens = [token for token in tokens if token not in stop_words]\n",
    "    # re-create document from filtered tokens\n",
    "    doc = ' '.join(filtered_tokens)\n",
    "    return doc"
   ]
  },
  {
   "cell_type": "code",
   "execution_count": 8,
   "metadata": {},
   "outputs": [],
   "source": [
    "normalize_corpus = np.vectorize(normalize_document)"
   ]
  },
  {
   "cell_type": "code",
   "execution_count": 9,
   "metadata": {},
   "outputs": [
    {
     "data": {
      "text/plain": [
       "0                         is so sad for my APL frie...\n",
       "1                       I missed the New Moon trail...\n",
       "2                              omg its already 7:30 :O\n",
       "3              .. Omgaga. Im sooo  im gunna CRy. I'...\n",
       "4             i think mi bf is cheating on me!!!   ...\n",
       "Name: SentimentText, dtype: object"
      ]
     },
     "execution_count": 9,
     "metadata": {},
     "output_type": "execute_result"
    }
   ],
   "source": [
    "corpus=data['SentimentText']\n",
    "corpus.head()"
   ]
  },
  {
   "cell_type": "raw",
   "metadata": {},
   "source": []
  },
  {
   "cell_type": "code",
   "execution_count": 10,
   "metadata": {},
   "outputs": [],
   "source": [
    "norm_corpus=normalize_corpus(corpus)"
   ]
  },
  {
   "cell_type": "code",
   "execution_count": 11,
   "metadata": {},
   "outputs": [
    {
     "data": {
      "text/plain": [
       "array(['sad apl friend', 'missed new moon trailer', 'omg already',\n",
       "       'omgaga im sooo im gunna cry ive dentist since suposed get crown put mins',\n",
       "       'think mi bf cheating tt', 'worry much',\n",
       "       'juuuuuuuuuuuuuuuuussssst chillin',\n",
       "       'sunny work tomorrow tv tonight',\n",
       "       'handed uniform today miss already', 'hmmmm wonder number',\n",
       "       'must think positive', 'thanks haters face day',\n",
       "       'weekend sucked far', 'jb isnt showing australia', 'ok thats win',\n",
       "       'lt way feel right',\n",
       "       'awhhe man im completely useless rt funny twitter httpmylocmehx',\n",
       "       'feeling strangely fine im gonna go listen semisonic celebrate',\n",
       "       'huge roll thunder nowso scary',\n",
       "       'cut beard growing well year im gonna start shaunamanu happy meantime',\n",
       "       'sad iran', 'wompppp wompp',\n",
       "       'youre one see cause no one else following youre pretty awesome',\n",
       "       'ltsad level writing massive blog tweet myspace comp shut lost lays fetal position',\n",
       "       'headed hospitol pull golf tourny rd place think reripped something yeah',\n",
       "       'boring whats wrong please tell',\n",
       "       'cant bothered wish could spend rest life sat going gigs seriously',\n",
       "       'feeeling like shit right really want sleep nooo hours dancing art assignment finish',\n",
       "       'goodbye exams hello alcohol tonight',\n",
       "       'didnt realize deep geez give girl warning atleast',\n",
       "       'hate athlete appears tear acl live television',\n",
       "       'miss guys think im wearing skinny jeans cute sweater heels not really sure today',\n",
       "       'meet meat httpbitlyssci', 'horsie moving saturday morning',\n",
       "       'no sat offneed work days week',\n",
       "       'really dont like room boring sick wardrobe cant waiit till walk one yay',\n",
       "       'sox floyd great relievers need scolding', 'times like million',\n",
       "       'uploading pictures friendster',\n",
       "       'type spaz downloads virus brother thats msn fucked forever',\n",
       "       'ampampfightiin wiit babes',\n",
       "       'wrote something last week got call someone new york office httptumblrcomxcnwo',\n",
       "       'enough said',\n",
       "       'need even say well go anyways chris cornell chicago tonight',\n",
       "       'health class joke', 'ginaaa lt go show tonight',\n",
       "       'spiralgalaxy ymptweet really makes sad look muslims reality',\n",
       "       'time low shall motivation rest week',\n",
       "       'entertainment someone complained properly rupturerapture experimental say experiment melody',\n",
       "       'another year lakers thats neither magic fun', 'baddest day eveer',\n",
       "       'bathroom clean enjoyable tasks', 'boom boom pow', 'im proud',\n",
       "       'congrats helio though',\n",
       "       'david must hospitalized five days end july palatine tonsils probably never see katie concert',\n",
       "       'friends leaving cause stupid love httpbitlyzoxzc',\n",
       "       'go give ur mom hug right httpbitlyazfwv',\n",
       "       'going see harry sunday happiness', 'hand quilting',\n",
       "       'hate u leysh tar', 'always get want', 'bend backwards',\n",
       "       'get work sooooon miss cody booo havent seen foreverr',\n",
       "       'hate allergies get hair cut tomorrow im taking public poll',\n",
       "       'love guys much hurts httptumblrcomxkhzus', 'miss earl',\n",
       "       'miss new jersey',\n",
       "       'missed first hour sytycd last night cant find online',\n",
       "       'need u fix', 'never thought id become second choice',\n",
       "       'think may friendlylol well', 'think manuel basil plant days live',\n",
       "       'wanna home churchi wonder wht', 'wanna make pizza',\n",
       "       'want gb harddrive inch tv new guitar anyonefeeling generous p x',\n",
       "       'want hug', 'want miley tour australia',\n",
       "       'wanted sleep morning mean kid popsicle stick head wish could fly away like squirrels',\n",
       "       'slow get tix',\n",
       "       'send sunshine northern ireland going swimming today kezbat',\n",
       "       'wish could go beach would great see shontellelayne amp danmerriweather',\n",
       "       'would much happier walls bedroom painted white',\n",
       "       'idk wat trust im sorry da pain caused nebody ima take dis time straighten luv yall',\n",
       "       'im finding intercept slopeand banging head wallmath brain heads come save',\n",
       "       'im really going bed', 'im sick cough cough',\n",
       "       'cab headed airport going home ltchristygt',\n",
       "       'case feel emo camp feeling wee bit alram bringing human rights watch world report hope itll work',\n",
       "       'jin twitter', 'jonas day almost',\n",
       "       'jus got hom fr tda funeral im sad cried much times much love grandpalt never got say last quotgoodbyequot',\n",
       "       'gonna smilecuz isand im not sure could want',\n",
       "       'got home got see friend zahra havent seen since graduated makes happy',\n",
       "       'longest night ever ugh httptumblrcomxwpyxhi',\n",
       "       'mi momacita wont let go bfs bball game grrr',\n",
       "       'mom says get new phone immediatelyoff tmobile paying',\n",
       "       'new car stolenby mother wanted go pose church',\n",
       "       'no hang girls day moro hope',\n",
       "       'no movie times sunday rats plan tomorrow guess means work two presentations',\n",
       "       'no pavel tonight lttigersfan gt', 'not cool night', 'oh thank',\n",
       "       'pleased', 'probably guna get soon since no one talkin no',\n",
       "       'really wanted safina pull win amp lose like', 'rip david eddings',\n",
       "       'rose ood back xmas special yay damn thats half year away',\n",
       "       'sannesias aww no neighbor need watch mean girls httptumblrcomxvspi',\n",
       "       'whats status next weekend',\n",
       "       'sorry gigi ex husband overdosed daily dose haterade',\n",
       "       'thanks definition throwbie editors reviewed entry decided not publish',\n",
       "       'thanks need help get', 'explains alot',\n",
       "       'theres going heathers sequel winonaever better not fuck',\n",
       "       'told not drink wmy rx gave bb porter amp obs stout brought home neighbors v v sad',\n",
       "       'trae sweet bought new baithing suit wove',\n",
       "       'true highly subjective tombre actually favorite character book got httpisgdbe rishabh',\n",
       "       'u guys knw whyy', 'much',\n",
       "       'waahhh im getting sadmiss hub quotquotquotquotquotquotquotquot',\n",
       "       'standing pouring rain sitting top world summer sucks',\n",
       "       'went get dog vets theyve stitched ear charged us still bleeds like waterfall everytime moves',\n",
       "       'picture feel naked',\n",
       "       'arent trains going manchester sunday cant go jonasbrothers concert',\n",
       "       'must people picky mean hours work no dice whats httptumblrcomxsgmufn',\n",
       "       'twitter soon become obsolete httpwwwimediaconnectioncomcontentasp',\n",
       "       'wide awake not',\n",
       "       'yeah awful weather last week stinks kristis comin moe said mmmaybe take us',\n",
       "       'hi stranger hello frank lampard fine urself stranger gay httptumblrcomxajdkly',\n",
       "       'youll always one', 'turnoffwords shit sucks',\n",
       "       'asylm j panel guess back normal life',\n",
       "       'poemsunder started shannonelyse',\n",
       "       'squarespace brighten bad day never win anything',\n",
       "       'susan boyle didnt win mh well diversity good though congratz',\n",
       "       'twenty', 'lt believe enough', 'lt goooood timessss',\n",
       "       'lt graduate lt',\n",
       "       'quot vandals paint swastikas home author gay lesbian church story naples daily newsquot httpbitlyzyzl',\n",
       "       'quotan unknown error occured quot uh oh iphone os fail far',\n",
       "       'quotexperts homers predict eagles go giants go bs httpwwwdailysportspagescomforumsshowthreadphpt',\n",
       "       'quoti know hungry lets go outside balcony eatquot',\n",
       "       'quoti want bad driving madquot',\n",
       "       'quotthe men uk female internet entrepreneur know starting growing business next womenquot httptinyurlcom',\n",
       "       'quotthe truth hiding eyesquot patita missmarian paramore decode daninho httpblipfmytke',\n",
       "       'quottry turn tv get head ive got feeling inside wont admitquot literally feel',\n",
       "       'quotwell truth miss soquot coldplay',\n",
       "       'tears today last day kidsthey go summer break dads tomorrow sighs httpplurkcompxj',\n",
       "       'unsure annoyed httpplurkcomplz',\n",
       "       'via designrelated designed gallery exhibition postcardsmailers going extinct via nyt httpowlyfhjc',\n",
       "       'beautifulylost',\n",
       "       'cries im going miss harry potter comes im leaving vietnam july th im going cry',\n",
       "       'hummin say quotshut amp put money mouth isquot headin reality cheers twitter world',\n",
       "       'sigh cant love someone doesnt love back thats like stalker status get divorce ampamp move trinity',\n",
       "       'going back bed im lookin around dont see reason awake atm little',\n",
       "       'aiqht goodniqht tri neena malcolm chaise jlew atl lt love much',\n",
       "       'triiiiiii ily even chaise doesnt dies laughter',\n",
       "       'wantt hiim soo badd',\n",
       "       'watching tv bed shopping w mom w trent hopefully need best friend',\n",
       "       'weird encounters many homelesscreeps walk home tonight awesome really',\n",
       "       'rained truck race', 'feeling worse f',\n",
       "       'feeling pain happiness time confusing', 'hot choco best',\n",
       "       'shirt panties celulite',\n",
       "       'turn back north due body line missing design council design tech transfer event httpbitlypxrzv',\n",
       "       'everything hard', 'bueno good bye good night',\n",
       "       'beach day scoobs still no phone', 'lets fun give ya give ya',\n",
       "       'dont want move',\n",
       "       'amazing nightday amp night hi twits miss u guys',\n",
       "       'canaveral national seashore',\n",
       "       'progressing production department quotthe uprizingquot thats priority getting head nodding beats reach',\n",
       "       'taylorrhicks enjoy chicagob new venue always cool shine everywhere go know time everyone',\n",
       "       'train crash dc', 'thestreetforce', 'sixtydays makes smile',\n",
       "       'adamisacson first day weeks child got watch quotnancy grac httptrimkhkw',\n",
       "       'adbert quotvideo woody woodpecker barber seville great klitoria wishing ch httpblipfmgr',\n",
       "       'alexrauchman happy staying around drexel fabulous university proud yeah',\n",
       "       'alvinkschneider happened angels demons lions tigers bears',\n",
       "       'americanwomannn well sure minimizes impactlol',\n",
       "       'angeblack sween call dibs voltron arm no leg wait manners baileygenine httptrimoery',\n",
       "       'charlottegc saw ur mum',\n",
       "       'chloelunn meganmcdowell get fat asses nai',\n",
       "       'codinghorror see three external monitors one laptop httpwwwtwitpiccomezp winrc x x x x',\n",
       "       'copicmarkerquot facebookcomcopicmarker youre cool youre not cool maybe ill send cool httptrimoyt',\n",
       "       'crewislife want start morning later new york californians even better',\n",
       "       'cybervenus httptwitpiccomkwb lol luv gtgt httptwitpiccomhsg find c httpbitlymumfh',\n",
       "       'dandelionas making fettucini garlic bread',\n",
       "       'danregal tell pfont said happy bday',\n",
       "       'darcylussier lkrammes went work last year no pants ironically last day work job fml',\n",
       "       'dirtyrose told would sweep haha p',\n",
       "       'dreamingspires r many gr science cartoons httpbitlyewq httpbitlygxhq httpbitlysjxi httpbitlykeay',\n",
       "       'em edinburgh fringe weeks away need monies btw im elliott angryfeet blame howliet twitter intrusion',\n",
       "       'emilymariie didnt come school done short stack thing still need',\n",
       "       'evertb one httpbitlyolw httpbitlynhs httpbitlywrvz latter us store iphone comics',\n",
       "       'georgediaz magic thinking less chance hedo stays orlando hes gonna go cant blame though',\n",
       "       'glamicole wud make beautiful plc cry',\n",
       "       'hatermagazine damienrandle outer fat kid',\n",
       "       'haugern servers backup experience problems please let know sorry delay',\n",
       "       'hawaiibuzz quotyes lol jk luv djdolcevita quotyou like gentle breeze blown throug httpblipfmsmn',\n",
       "       'hellopnsdear se morrea mi joseph no no se vale',\n",
       "       'hidingesther linininiooh future rooooooooomies nyc holler',\n",
       "       'hijackking hope u cheese burgers snubbmatic lmbo',\n",
       "       'iamyas awesome',\n",
       "       'ivegotzooms nothing kind everything sort httptrimmlsn',\n",
       "       'jerrybattiste quotpick flowers teacherquot im jealous want flowers without hospital get',\n",
       "       'joaoqalves think talvez seja nfase na cifra mas ateno quotsecurity chain strong weakest link',\n",
       "       'jonasbrothers youtube account suspended lol single ladies dance need watch',\n",
       "       'juicyjones know sold though', 'kaitymarine watch e mcmudkips',\n",
       "       'katherineholden thanks k heres hoping pretty nervous though',\n",
       "       'katiedontcry get aim talk miss', 'kcome followers httptrimmwkn',\n",
       "       'khead ill tell ya grocery store better blasted oldies sugar ray not make httptrimjdy',\n",
       "       'kvetchingeditors kashrut convo makes want keep kosher roomies catholic amp pork loin fridge kosherfail',\n",
       "       'leloz isnt home neither sozi althani u better',\n",
       "       'lhsoperafiends yall bitches better wake early go la opera kay',\n",
       "       'littlecharva im immune dentists drills etc doesnt bother gum lift surgery next week tho eek',\n",
       "       'lolifelife r u tonite im still awake',\n",
       "       'lorinimus hates bebot app',\n",
       "       'masareusquot dhempe congrats bhai like oldies gt used say arre bhai kuch kam ka httptrimoxg',\n",
       "       'melodychase',\n",
       "       'mgphnom chilling twitter via spanking new blackberry w unlimited internet httptrimmzvc',\n",
       "       'michaelsarver give every inch love every night',\n",
       "       'mimbles wparenthetical',\n",
       "       'minghao maybe pop starhubcares tweet quite active twitter',\n",
       "       'msnovember shame women mamma mia horny since men island httptrimkmet',\n",
       "       'nibaq thanks letting know im going check eureka later knowledge',\n",
       "       'oneshine u referring', 'plmusic',\n",
       "       'poisongirl whats sevgli hey lowridergrl im ok thx cristinerafae ttyl nicpic oh sowwy lol',\n",
       "       'rappublicist happy mothers day',\n",
       "       'raybooysen knew sharepoint written interns knew',\n",
       "       'miss much already', 'practisinghow feel', 'miss love jamie',\n",
       "       'fuck', 'head feels like bowling ball', 'heart hurts badly',\n",
       "       'fs keeps crashing try load bungie plane',\n",
       "       'current headset deathbed dad gave weeks back',\n",
       "       'mood currently blah sitting parking lot', 'happy', '',\n",
       "       'everyone went home not everyone even cmf lt', 'fed',\n",
       "       'fuck fuck fuuuuck',\n",
       "       'not feeling today make matters worst super nasty rainy outside yuck',\n",
       "       'beansummer', 'awwwwwh wanted aiden davis win lt bummed didnt',\n",
       "       'bed time', 'faltam dias para world drawing day',\n",
       "       'friends like no thanks im not fake',\n",
       "       'haha omg stayin steezy amp mowin lawn loviie still ampamp goiing tanning soon',\n",
       "       'think bf cheating',\n",
       "       'wanna play camera settle playing ivs heart monitors',\n",
       "       'want octo drive',\n",
       "       'want display pretty voltron upside get two pretty voltrons',\n",
       "       'want find way put photos phone bluetooth phone computer doesnt work',\n",
       "       'effort bring best content added lease hours release digital rapture soon hang tight',\n",
       "       'response happened today', 'j right hurts',\n",
       "       'kinda not really kinda',\n",
       "       'lets moment silence childhood homes sadly cant replaced never go back',\n",
       "       'lol robotpickuplines hilarious', 'man oh man punch head im ok',\n",
       "       'friends get ur friends b friends shit could every weeknd aiigght coop n crew',\n",
       "       'no man worth tears one wont make cry', 'rain rain go away',\n",
       "       'storms scary', 'beautiful satisfying day bargain shopping loves',\n",
       "       'tell girls clocking lol', 'thank god today friday love ti ti lt',\n",
       "       'batt internet connection died guess back mobile',\n",
       "       'thrilled work morning',\n",
       "       'break dance not hearts short stack ringtone love song',\n",
       "       'wwwapplecomiphone th',\n",
       "       'squarespace trackle no apple iphone card us maybe tomorrow guess helps tweet huh forgot',\n",
       "       'unsure hassle music httpplurkcompyql', 'exhausted',\n",
       "       'want benampjerrys cake batter please ugh', 'life lazzzzyyyy',\n",
       "       'wish ella somebody', 'ish good mood tlk',\n",
       "       'think im going go long drive get pacific ocean open car door throw pc ocean',\n",
       "       'hell bbc', 'canucks', 'dont like weekend huhuhu',\n",
       "       'ill get right away', 'j made nice twice',\n",
       "       'loves life atm brilliant xd', 'else happy mood', 'bye everyone',\n",
       "       'lonely night', 'blue not work', 'geez im feeling pain',\n",
       "       'miss summertime daley',\n",
       "       'computer ill lol no fuckin goin portugal', 'far good',\n",
       "       'today great day', 'ughhhhhhhhhhhhhhhhhhhhhhhhhhhhh',\n",
       "       'battleground', 'lot lot lot lot lot lot lot lot lot lot lot lot',\n",
       "       'awwwwwh wanted aiden davis win lt bummed didnt',\n",
       "       'curtain drops crown uptown ye httpwwwkansascomnewsfeaturedstoryhtml',\n",
       "       'eh must leave new mexico soon', 'fail maths knew slow',\n",
       "       'gongwer oh report sounds like leadership still considering library cuts not considering tax increases saveohiolibraries',\n",
       "       'fuck sake things never work',\n",
       "       'going town toda cousinnn netball match cancelledd',\n",
       "       'hoping see baby girl', 'dont even know', 'lost member family',\n",
       "       'im sick bedtime battles', 'im cold morning chills', '',\n",
       "       'no no no tonight goes books worst sytycd results show',\n",
       "       'no shopping',\n",
       "       'poor lil mousey enjoying sunny day dont think id feel bad big gnarly rat though dbl standard yep',\n",
       "       'thats epic sad face',\n",
       "       'magazine story broke heart dentists office today httptinyurlcomngbqc',\n",
       "       'tiger woods via httpnascarcomracebuddy',\n",
       "       'wanna go meet wifey cant sux',\n",
       "       'wondering feel like doill feel better thoughits good ill happy inspite oftweet ya lata',\n",
       "       'yippeeeee yay lets gather hayhis love found way boyits gonna stay added masters holy way willway',\n",
       "       'iranelection no one realizes deep goes',\n",
       "       'gt bodies air france crash found httptwurlnldvube via paisano',\n",
       "       'lt story life whole bunch frownies',\n",
       "       'noooooooooo friends twitter makes sad someone follow',\n",
       "       'want hear guess thats asking much',\n",
       "       'hardest working chica know mii boss lady moneyaceweather look seriously lol',\n",
       "       'really dont like condition sucksssssss',\n",
       "       'orlando lost series oh well maybe phoenix boston cleveland teams like make next year',\n",
       "       'rinitis sucks', 'thanks bestttttttttttttttttttt jdawg',\n",
       "       'gt gt im mad sad right played terrible today soccer basketball',\n",
       "       'lt mustache man not desperate', 'lt face im missing zoro tonight',\n",
       "       'riceuniversiity know huh kouture im bout cryahmier thanks marco muah',\n",
       "       'angry', 'praise god beautiful day', 'sry matt hear',\n",
       "       'fucccckkkkkkkkkk', 'bye world',\n",
       "       'couldnt even one fairytale night',\n",
       "       'ill working pottercastlupinswillows come near fail',\n",
       "       'cell phone screen dead sooooooooooo no texts dont know whos calling fuuuuuuuuuuuuuuuuuuuuuuuuuuuuuuuuuuuuuuuuuuuck',\n",
       "       'no sickness strike say strike ohhhh well nother day school guess',\n",
       "       'nobody likes year one reviews ive read im disappointed maybe ill like since im not expecting much',\n",
       "       'must say', 'old mes dead gone', 'go minutes please please please',\n",
       "       'lakers love guyssss rings mmmyeahh bling blingg',\n",
       "       'perfektnchance chance boo',\n",
       "       'standingstones thank much dvd suggestion nice looks good',\n",
       "       'awwwww really hate', 'bad day', 'bad daydamn kind ticket sale',\n",
       "       'boston globe could shut days httpsbnewsrvwc',\n",
       "       'bye guys ima miss yall sooo sooo much dont worry ill back monday awesome weekend peace',\n",
       "       'followers im sad im losing hope pressure',\n",
       "       'couldnt blessd da mic w bras music day ericeonthebeat moneybagzfamst circustk',\n",
       "       'cry cry cry', 'fkn day', 'goodnight',\n",
       "       'grandma sick not well going emergency room',\n",
       "       'wonderful day gd grrrrrrrrreat',\n",
       "       'going shed tears cavs go home tonight like seriously',\n",
       "       'soooo sadat point night id cuddling jonathan like years',\n",
       "       'hate forever', 'passed exam today', 'missed',\n",
       "       'still feel like douchebag', 'want write song think',\n",
       "       'serialseb always thought time estimates use value pi rule x exception pi squared rule',\n",
       "       'sirkenrobinson creativity via twitter httpbitlyhvths',\n",
       "       'slashhudson tease wanna hear tracks',\n",
       "       'sommacolada never answering ims',\n",
       "       'soultravelers httpbitlyhnqe traveltips student safety roughplaces',\n",
       "       'squarespace fathers day havent picked meyet kind want incessantly bother yousquarespace',\n",
       "       'srenaenae fml',\n",
       "       'sweetlilmzmia quotgotta love blipfm john mayer trio california dreamin heard conan httpblipfmqdf',\n",
       "       'thatsrightnate case need help w httpbitlynph',\n",
       "       'thediamondcoach im sure hed love lol',\n",
       "       'theenglishmuse quotkarl lagerfeldquot twitter profiles lol heart first pic httptinyurlcomcbltm',\n",
       "       'theiancrawford no longer cab say im heartbroken understatement good luck everything youre amazing ian',\n",
       "       'vasongstress broke twitter',\n",
       "       'warbo clubbing must come sheffield sometime amp party really probably shouldnt atm tech conference conf etc',\n",
       "       'weselec avatar cant figure people either httptrimjj',\n",
       "       'xxkirahxx fulfilling lifes ambition go jonas brothers concert went hmv new album already sold',\n",
       "       'yhf happened movies anyway like hollywood forgot rough times public wants see httptrimmzl',\n",
       "       'zochula yelled picking apple store food',\n",
       "       'zoeboe quotwhoops credit due gtgtgtrbmusicismysunshine quot httpblipfmdpk',\n",
       "       'gt not exit cessna skydiving httpbitlyzzj',\n",
       "       'cats kittens died days old toorip ming',\n",
       "       'week palm pre comes centro dies temp phone contacts arent transfered yet sadpanda fb',\n",
       "       'chicken mcnuggets double cheeseburgers large fries lemonade dinner may ask hate body',\n",
       "       'hrs da phonelol dude hilarious',\n",
       "       'th tweet breakfast everything bagel toasted wcream cheese iced cap delish',\n",
       "       'gb video upload utube dam sony vegas making big',\n",
       "       'new footwear labeling norm definitions never referred document wrote',\n",
       "       'big angry spider crawling blankeys flicked floor cant sleep',\n",
       "       'blessed sunday everyone', 'couple years sickness piled one day',\n",
       "       'dog riding bicycle httpbitlygvmzd',\n",
       "       'fly landed green chile stew ive never big killing bugs asshole asked goes appetite',\n",
       "       'problem shared buck passed', 'got handshake meeting vibe sucks',\n",
       "       'hitech', 'jonahwhats tweet sharon',\n",
       "       'alice beating scooby doo board game',\n",
       "       'quite tired cant wait till wwe burswood lt',\n",
       "       'anyone advice cope break',\n",
       "       'arrrrrrrgggggggghhhhhhhh thats lines communications temporarily suspended',\n",
       "       'awake ready day', 'nasty studio woman go sleepies', 'understand',\n",
       "       'cars inspected today gonna cost dollars', 'e',\n",
       "       'everythings wrong',\n",
       "       'exercise build muscle mass thing speeds metabolism httptinyurlcombvagbj',\n",
       "       'feeling ok first time days thank', 'found new way text yey',\n",
       "       'friends dying horrible', 'going paddle moz',\n",
       "       'good nite hope grandma visits dreams tonight last night uplifting miss',\n",
       "       'goodbassplayer funny oilipo hope people bring us good things started early week',\n",
       "       'best', 'hungover craving chocolate omg funny pub last night lol',\n",
       "       'dont want sister leave whole summer',\n",
       "       'hope everyone church go concert peace wed dont worry rushing back church visit',\n",
       "       'spilt last jordans cereal floor im distraught httptumblrcomxxwlh',\n",
       "       'miss family friends', 'see missed nectar sucking dirty talk',\n",
       "       'want freaking puppy cute little black yorkshire terrier',\n",
       "       'want irissa back httptumblrcomxpnwrj',\n",
       "       'im glad diversity got throughbut stavros',\n",
       "       'im tell ya yummy decided go hunt blender drinks know good ones',\n",
       "       'im nutella', 'rlly tht serious im abt go thru fonebook',\n",
       "       'listenin new fav band amor',\n",
       "       'environmental studies driving mental',\n",
       "       'ive always seen bits amp pieces shottas ive seen whole movieit ends sooooo sad im gonna cry',\n",
       "       'another day paradise', 'found bone chicken nugget not cool',\n",
       "       'like said back still fucking hurts im going complain like no ones business httptumblrcomxnamd',\n",
       "       'love lt', 'aunties dog getting put hes dogs brother aswell',\n",
       "       'head feels like going explode mmm horrendous image mess',\n",
       "       'head killing meee',\n",
       "       'name amy im three eyes swollen cannot see must stupid must bad httptumblrcomxfjuain',\n",
       "       'picture kris karmada gone forever not comments mysapce httptumblrcomxzgwyjj',\n",
       "       'confirmed missing air france flight crashed atlantic httpbitlybxdvl',\n",
       "       'myspace comments gone cause someone hacked onto wills account kept abusing others delete',\n",
       "       'school soon cant wait celebrate stres till',\n",
       "       'pop movie amp chill bit get innnnn call n text', 'swim',\n",
       "       'abt missing air france plane follow best air news source httptinyurlcommpyk',\n",
       "       'afi not reading til sunday sucks',\n",
       "       'crap night looking forward cheered no never mind',\n",
       "       'ah postman didnt package goon rest day',\n",
       "       'ahh school monday not ready', 'ahhh drizzy mr rogers indeed best',\n",
       "       'airport express doesnt rock enough allow wireless scanning canon pixma mx otherwise wireless goodness',\n",
       "       'alistairs friends kitchen im pjsi want cup tea dammit',\n",
       "       'day no play',\n",
       "       'dressed no bicyclist monday nite ride n henderson ky httpbitlyhne',\n",
       "       'want arms thats want arms',\n",
       "       'friends gone haley n katie camp paris moms landin n ayonna aunts n moms im bored',\n",
       "       'nighter yeeeeeeeeeeeessshhhh nightmare coming weeks cannot wait graduate',\n",
       "       'small things',\n",
       "       'nonrobsten posts making sad mean knew see others words sad',\n",
       "       'allison didnt win', 'almost time leave',\n",
       "       'already getting sleepyi really want get psych quizzes done tonight',\n",
       "       'always nice thing wake yay p gosh im typical lame overanalyzing teenager lmao nice nap',\n",
       "       'excited', 'feelin happy', 'feeding pig',\n",
       "       'losing mind cause wanna see mytc tv right min fu want see candygirls not daisy dammit iluvterricka',\n",
       "       'sad say didnt get results today somehow school forgot mail results typical ugh',\n",
       "       'alarm clock device waking people not small children',\n",
       "       'mend broken heart httpblipfmkkl',\n",
       "       'think thats felt really sick depressed school today cuz stress im glad got chest',\n",
       "       'starting get confident torn',\n",
       "       'anoronreedcourtyoperaunitecomwebservercontent homesch alternatva',\n",
       "       'another mins', 'another early day',\n",
       "       'another fathers day weekend dont get spend dad',\n",
       "       'another friday night rock band', 'anticipating tough day ahead',\n",
       "       'anyone know ghostbusters region free get us copy britain',\n",
       "       'million making difference cant help believe came believing amp leave believing god',\n",
       "       'ovelt', 'whats wrong wit'], dtype='<U119')"
      ]
     },
     "execution_count": 11,
     "metadata": {},
     "output_type": "execute_result"
    }
   ],
   "source": [
    "norm_corpus"
   ]
  },
  {
   "cell_type": "code",
   "execution_count": 12,
   "metadata": {},
   "outputs": [
    {
     "data": {
      "text/plain": [
       "array([[0, 0, 0, ..., 0, 0, 0],\n",
       "       [0, 0, 0, ..., 0, 0, 0],\n",
       "       [0, 0, 0, ..., 0, 0, 0],\n",
       "       ...,\n",
       "       [0, 0, 0, ..., 0, 0, 0],\n",
       "       [0, 0, 0, ..., 0, 0, 0],\n",
       "       [0, 0, 0, ..., 0, 0, 0]], dtype=int64)"
      ]
     },
     "execution_count": 12,
     "metadata": {},
     "output_type": "execute_result"
    }
   ],
   "source": [
    "from sklearn.feature_extraction.text import CountVectorizer\n",
    "\n",
    "cv = CountVectorizer(min_df=0., max_df=1.)\n",
    "cv_matrix = cv.fit_transform(norm_corpus)\n",
    "cv_matrix = cv_matrix.toarray()\n",
    "cv_matrix"
   ]
  },
  {
   "cell_type": "code",
   "execution_count": 13,
   "metadata": {},
   "outputs": [
    {
     "name": "stdout",
     "output_type": "stream",
     "text": [
      "(500, 1880)\n"
     ]
    }
   ],
   "source": [
    "sentiment=data['Sentiment']\n",
    "print(cv_matrix.shape)"
   ]
  },
  {
   "cell_type": "code",
   "execution_count": 14,
   "metadata": {},
   "outputs": [],
   "source": [
    "from sklearn.ensemble import RandomForestClassifier"
   ]
  },
  {
   "cell_type": "code",
   "execution_count": 15,
   "metadata": {},
   "outputs": [
    {
     "data": {
      "text/plain": [
       "RandomForestClassifier()"
      ]
     },
     "execution_count": 15,
     "metadata": {},
     "output_type": "execute_result"
    }
   ],
   "source": [
    "clf = RandomForestClassifier()\n",
    "clf.fit(cv_matrix[0:450],sentiment[0:450])"
   ]
  },
  {
   "cell_type": "code",
   "execution_count": 16,
   "metadata": {},
   "outputs": [
    {
     "data": {
      "text/plain": [
       "0.76"
      ]
     },
     "execution_count": 16,
     "metadata": {},
     "output_type": "execute_result"
    }
   ],
   "source": [
    "clf.score(cv_matrix[450:500],sentiment[450:500])"
   ]
  },
  {
   "cell_type": "code",
   "execution_count": null,
   "metadata": {},
   "outputs": [],
   "source": []
  },
  {
   "cell_type": "code",
   "execution_count": 17,
   "metadata": {},
   "outputs": [],
   "source": [
    "def model_prep():\n",
    "    sentence = Input((1880,), dtype='float32')\n",
    "    \n",
    "    X = Dense(5)(sentence)\n",
    "    \n",
    "    X = Dense(1)(X)\n",
    "    \n",
    "    X = Activation('softmax')(X)\n",
    "    \n",
    "    \n",
    "    model = Model(inputs=sentence, outputs=X)\n",
    "    \n",
    "    return model"
   ]
  },
  {
   "cell_type": "code",
   "execution_count": 18,
   "metadata": {},
   "outputs": [
    {
     "name": "stdout",
     "output_type": "stream",
     "text": [
      "Model: \"model_1\"\n",
      "_________________________________________________________________\n",
      "Layer (type)                 Output Shape              Param #   \n",
      "=================================================================\n",
      "input_1 (InputLayer)         (None, 1880)              0         \n",
      "_________________________________________________________________\n",
      "dense_1 (Dense)              (None, 5)                 9405      \n",
      "_________________________________________________________________\n",
      "dense_2 (Dense)              (None, 1)                 6         \n",
      "_________________________________________________________________\n",
      "activation_1 (Activation)    (None, 1)                 0         \n",
      "=================================================================\n",
      "Total params: 9,411\n",
      "Trainable params: 9,411\n",
      "Non-trainable params: 0\n",
      "_________________________________________________________________\n"
     ]
    }
   ],
   "source": [
    "model=model_prep()\n",
    "model.summary()"
   ]
  },
  {
   "cell_type": "code",
   "execution_count": 19,
   "metadata": {},
   "outputs": [],
   "source": [
    "model.compile(loss='binary_crossentropy', optimizer='adam', metrics=['accuracy'])"
   ]
  },
  {
   "cell_type": "code",
   "execution_count": 20,
   "metadata": {},
   "outputs": [],
   "source": [
    "y=data['Sentiment']\n",
    "y=y[0:500]\n",
    "y=np.array(y)\n",
    "\n",
    "y1=[]\n",
    "for i in y:\n",
    "    if i==1:\n",
    "        y1.append([1.,0.])\n",
    "    else:\n",
    "        y1.append([0.,1.])\n",
    "y1=np.array(y1) "
   ]
  },
  {
   "cell_type": "code",
   "execution_count": 21,
   "metadata": {},
   "outputs": [
    {
     "name": "stdout",
     "output_type": "stream",
     "text": [
      "Epoch 1/10\n",
      "500/500 [==============================] - 1s 1ms/step - loss: 10.2733 - accuracy: 0.3300\n",
      "Epoch 2/10\n",
      "500/500 [==============================] - 0s 95us/step - loss: 10.2733 - accuracy: 0.3300\n",
      "Epoch 3/10\n",
      "500/500 [==============================] - 0s 91us/step - loss: 10.2733 - accuracy: 0.3300\n",
      "Epoch 4/10\n",
      "500/500 [==============================] - 0s 91us/step - loss: 10.2733 - accuracy: 0.3300\n",
      "Epoch 5/10\n",
      "500/500 [==============================] - 0s 97us/step - loss: 10.2733 - accuracy: 0.3300\n",
      "Epoch 6/10\n",
      "500/500 [==============================] - 0s 94us/step - loss: 10.2733 - accuracy: 0.3300\n",
      "Epoch 7/10\n",
      "500/500 [==============================] - 0s 100us/step - loss: 10.2733 - accuracy: 0.3300\n",
      "Epoch 8/10\n",
      "500/500 [==============================] - 0s 99us/step - loss: 10.2733 - accuracy: 0.3300\n",
      "Epoch 9/10\n",
      "500/500 [==============================] - 0s 104us/step - loss: 10.2733 - accuracy: 0.3300\n",
      "Epoch 10/10\n",
      "500/500 [==============================] - 0s 94us/step - loss: 10.2733 - accuracy: 0.3300\n"
     ]
    },
    {
     "data": {
      "text/plain": [
       "<keras.callbacks.callbacks.History at 0x26960a0aa08>"
      ]
     },
     "execution_count": 21,
     "metadata": {},
     "output_type": "execute_result"
    }
   ],
   "source": [
    "model.fit(cv_matrix[0:500],sentiment[0:500], epochs = 10, batch_size = 10, shuffle=True)"
   ]
  },
  {
   "cell_type": "code",
   "execution_count": 22,
   "metadata": {},
   "outputs": [
    {
     "ename": "SyntaxError",
     "evalue": "(unicode error) 'unicodeescape' codec can't decode bytes in position 2-3: truncated \\UXXXXXXXX escape (<ipython-input-22-7ec76ca12494>, line 2)",
     "output_type": "error",
     "traceback": [
      "\u001b[1;36m  File \u001b[1;32m\"<ipython-input-22-7ec76ca12494>\"\u001b[1;36m, line \u001b[1;32m2\u001b[0m\n\u001b[1;33m    with open(\"C:\\Users\\REDDY\\Desktop\\model.json\", \"w\") as json_file:\u001b[0m\n\u001b[1;37m             ^\u001b[0m\n\u001b[1;31mSyntaxError\u001b[0m\u001b[1;31m:\u001b[0m (unicode error) 'unicodeescape' codec can't decode bytes in position 2-3: truncated \\UXXXXXXXX escape\n"
     ]
    }
   ],
   "source": [
    "model_json = model.to_json()\n",
    "with open(\"C://Users//REDDY//Desktop//model.json\", \"w\") as json_file:\n",
    "    json_file.write(model_json)"
   ]
  },
  {
   "cell_type": "code",
   "execution_count": null,
   "metadata": {},
   "outputs": [],
   "source": []
  }
 ],
 "metadata": {
  "kernelspec": {
   "display_name": "Python 3",
   "language": "python",
   "name": "python3"
  },
  "language_info": {
   "codemirror_mode": {
    "name": "ipython",
    "version": 3
   },
   "file_extension": ".py",
   "mimetype": "text/x-python",
   "name": "python",
   "nbconvert_exporter": "python",
   "pygments_lexer": "ipython3",
   "version": "3.7.9"
  }
 },
 "nbformat": 4,
 "nbformat_minor": 2
}
